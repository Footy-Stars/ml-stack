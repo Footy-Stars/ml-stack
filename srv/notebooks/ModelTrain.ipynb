{
 "cells": [
  {
   "cell_type": "markdown",
   "id": "a77cd669-a4ce-4785-ba92-52fb7bff49fc",
   "metadata": {},
   "source": [
    "Open notebook in colab"
   ]
  },
  {
   "cell_type": "code",
   "execution_count": null,
   "id": "9687830b-d7c9-4824-8c3d-c0df8caa1263",
   "metadata": {},
   "outputs": [],
   "source": []
  }
 ],
 "metadata": {
  "kernelspec": {
   "display_name": "Python 3 (ipykernel)",
   "language": "python",
   "name": "python3"
  },
  "language_info": {
   "codemirror_mode": {
    "name": "ipython",
    "version": 3
   },
   "file_extension": ".py",
   "mimetype": "text/x-python",
   "name": "python",
   "nbconvert_exporter": "python",
   "pygments_lexer": "ipython3",
   "version": "3.11.6"
  }
 },
 "nbformat": 4,
 "nbformat_minor": 5
}
